{
  "nbformat": 4,
  "nbformat_minor": 0,
  "metadata": {
    "colab": {
      "provenance": []
    },
    "kernelspec": {
      "name": "python3",
      "display_name": "Python 3"
    },
    "language_info": {
      "name": "python"
    }
  },
  "cells": [
    {
      "cell_type": "code",
      "execution_count": 1,
      "metadata": {
        "id": "r3Qxe1-hILfb"
      },
      "outputs": [],
      "source": [
        "from pathlib import Path\n",
        "import matplotlib.pyplot as plt\n",
        "import numpy as np\n",
        "%matplotlib notebook\n",
        "from sklearn import svm, metrics, datasets\n",
        "from sklearn.utils import Bunch\n",
        "from sklearn.model_selection import GridSearchCV, train_test_split\n",
        "\n",
        "from skimage.io import imread\n",
        "from skimage.transform import resize"
      ]
    },
    {
      "cell_type": "code",
      "source": [
        "train_d = '/content/drive/MyDrive/Brain/Train'\n",
        "test_d = '/content/drive/MyDrive/Brain/Test'"
      ],
      "metadata": {
        "id": "lYRlbkZLIMXZ"
      },
      "execution_count": 2,
      "outputs": []
    },
    {
      "cell_type": "code",
      "source": [
        "def load_image_files(container_path, dimension=(64, 64,3)):\n",
        "    image_dir = Path(container_path)\n",
        "    folders = [directory for directory in image_dir.iterdir() if directory.is_dir()]\n",
        "    categories = [fo.name for fo in folders]\n",
        "\n",
        "    descr = \"A image classification dataset\"\n",
        "    images = []\n",
        "    flat_data = []\n",
        "    target = []\n",
        "    for i, direc in enumerate(folders):\n",
        "        for file in direc.iterdir():\n",
        "            img = imread(file)\n",
        "            img_resized = resize(img, dimension, anti_aliasing=True, mode='reflect')\n",
        "            flat_data.append(img_resized.flatten()) \n",
        "            images.append(img_resized)\n",
        "            target.append(i)\n",
        "    flat_data = np.array(flat_data)\n",
        "    target = np.array(target)\n",
        "    images = np.array(images)\n",
        "\n",
        "    return Bunch(data=flat_data,\n",
        "                 target=target,\n",
        "                 target_names=categories,\n",
        "                 images=images,\n",
        "                 DESCR=descr)"
      ],
      "metadata": {
        "id": "LRvun1f4ItwN"
      },
      "execution_count": 8,
      "outputs": []
    },
    {
      "cell_type": "code",
      "source": [
        "train_dataset = load_image_files(train_d)"
      ],
      "metadata": {
        "id": "OQq_UYh9I1rg"
      },
      "execution_count": 9,
      "outputs": []
    },
    {
      "cell_type": "code",
      "source": [
        "test_dataset=load_image_files(test_d)"
      ],
      "metadata": {
        "id": "Iles832aI8ey"
      },
      "execution_count": null,
      "outputs": []
    },
    {
      "cell_type": "code",
      "source": [
        "X_train, X_test, y_train, y_test = train_test_split(\n",
        "    train_dataset.data, train_dataset.target, test_size=0.3,random_state=109)"
      ],
      "metadata": {
        "id": "mYxX9lM5KVpk"
      },
      "execution_count": 10,
      "outputs": []
    },
    {
      "cell_type": "code",
      "source": [
        "param_grid = [\n",
        "  {'C': [1, 10, 100, 1000], 'kernel': ['linear']},\n",
        "  {'C': [1, 10, 100, 1000], 'gamma': [0.001, 0.0001], 'kernel': ['rbf']},\n",
        " ]\n",
        " \n",
        "svc = svm.SVC()\n",
        "clf = GridSearchCV(svc, param_grid)\n",
        "clf.fit(X_train, y_train)"
      ],
      "metadata": {
        "colab": {
          "base_uri": "https://localhost:8080/"
        },
        "id": "oyugXh8hJrMz",
        "outputId": "2f773aba-671e-46b5-ad35-d35112b97102"
      },
      "execution_count": 12,
      "outputs": [
        {
          "output_type": "execute_result",
          "data": {
            "text/plain": [
              "GridSearchCV(estimator=SVC(),\n",
              "             param_grid=[{'C': [1, 10, 100, 1000], 'kernel': ['linear']},\n",
              "                         {'C': [1, 10, 100, 1000], 'gamma': [0.001, 0.0001],\n",
              "                          'kernel': ['rbf']}])"
            ]
          },
          "metadata": {},
          "execution_count": 12
        }
      ]
    },
    {
      "cell_type": "code",
      "source": [
        "y_pred = clf.predict(X_test)"
      ],
      "metadata": {
        "id": "80cbAbInKKgK"
      },
      "execution_count": 13,
      "outputs": []
    },
    {
      "cell_type": "code",
      "source": [
        "print(\"Classification report for - \\n{}:\\n{}\\n\".format(\n",
        "    clf, metrics.classification_report(y_test, y_pred)))"
      ],
      "metadata": {
        "colab": {
          "base_uri": "https://localhost:8080/"
        },
        "id": "ClDvFGBYKO8y",
        "outputId": "109913d3-9da6-462f-f643-2ff4e033f2a7"
      },
      "execution_count": 14,
      "outputs": [
        {
          "output_type": "stream",
          "name": "stdout",
          "text": [
            "Classification report for - \n",
            "GridSearchCV(estimator=SVC(),\n",
            "             param_grid=[{'C': [1, 10, 100, 1000], 'kernel': ['linear']},\n",
            "                         {'C': [1, 10, 100, 1000], 'gamma': [0.001, 0.0001],\n",
            "                          'kernel': ['rbf']}]):\n",
            "              precision    recall  f1-score   support\n",
            "\n",
            "           0       0.98      0.95      0.96       402\n",
            "           1       0.95      0.98      0.97       414\n",
            "\n",
            "    accuracy                           0.96       816\n",
            "   macro avg       0.97      0.96      0.96       816\n",
            "weighted avg       0.96      0.96      0.96       816\n",
            "\n",
            "\n"
          ]
        }
      ]
    },
    {
      "cell_type": "code",
      "source": [],
      "metadata": {
        "id": "ngFS8pBYL_g_"
      },
      "execution_count": null,
      "outputs": []
    }
  ]
}