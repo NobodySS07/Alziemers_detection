{
  "cells": [
    {
      "cell_type": "code",
      "execution_count": 7,
      "metadata": {
        "id": "Z_0xPVY1jGJF"
      },
      "outputs": [],
      "source": [
        "import tensorflow as tf\n",
        "from tensorflow.keras import models, layers\n",
        "import matplotlib.pyplot as plt\n",
        "from tensorflow.keras import regularizers\n",
        "import numpy as np\n",
        "from sklearn.metrics import confusion_matrix\n",
        "from sklearn.model_selection import train_test_split"
      ]
    },
    {
      "cell_type": "code",
      "execution_count": 8,
      "metadata": {
        "id": "eROuKUOYjXZY"
      },
      "outputs": [],
      "source": [
        "train_d = '/content/drive/MyDrive/Brain/Train'\n",
        "test_d = '/content/drive/MyDrive/Brain/Test'"
      ]
    },
    {
      "cell_type": "code",
      "execution_count": 9,
      "metadata": {
        "id": "o1mEgaBhjp2_"
      },
      "outputs": [],
      "source": [
        "batch_size = 64\n",
        "img_height = 224\n",
        "img_size=224"
      ]
    },
    {
      "cell_type": "code",
      "execution_count": 6,
      "metadata": {
        "colab": {
          "base_uri": "https://localhost:8080/"
        },
        "id": "B1H69fQcjroB",
        "outputId": "836dd728-59fe-4285-cc32-9e64d7e1fff7"
      },
      "outputs": [
        {
          "output_type": "stream",
          "name": "stdout",
          "text": [
            "Found 2720 files belonging to 2 classes.\n",
            "Using 2040 files for training.\n"
          ]
        }
      ],
      "source": [
        "train_ds = tf.keras.utils.image_dataset_from_directory(\n",
        "  train_d,\n",
        "  validation_split=0.25,\n",
        "  subset=\"training\",\n",
        "  seed=123,\n",
        "  image_size=(img_size,img_size),\n",
        "  batch_size=batch_size,color_mode='grayscale')"
      ]
    },
    {
      "cell_type": "code",
      "execution_count": 10,
      "metadata": {
        "colab": {
          "base_uri": "https://localhost:8080/"
        },
        "id": "kfBB5gx4juj-",
        "outputId": "1c47677a-7c93-4ef6-ee09-ee64c5e84597"
      },
      "outputs": [
        {
          "output_type": "stream",
          "name": "stdout",
          "text": [
            "Found 488 files belonging to 2 classes.\n"
          ]
        }
      ],
      "source": [
        "test_ds= tf.keras.utils.image_dataset_from_directory(\n",
        "  test_d,\n",
        "  seed=123,\n",
        "  image_size=(img_size,img_size),color_mode='grayscale',batch_size=488)"
      ]
    },
    {
      "cell_type": "code",
      "execution_count": 11,
      "metadata": {
        "colab": {
          "base_uri": "https://localhost:8080/"
        },
        "id": "etqHMH5XjzTI",
        "outputId": "3c8905c2-2038-4736-c2bb-5861a87707b7"
      },
      "outputs": [
        {
          "output_type": "stream",
          "name": "stdout",
          "text": [
            "Found 2720 files belonging to 2 classes.\n",
            "Using 680 files for validation.\n"
          ]
        }
      ],
      "source": [
        "val_ds = tf.keras.utils.image_dataset_from_directory(\n",
        "  train_d,\n",
        "  validation_split=0.25,\n",
        "  subset=\"validation\",\n",
        "  seed=123,\n",
        "  image_size=(img_size,img_size),\n",
        "  batch_size=batch_size,color_mode='grayscale')"
      ]
    },
    {
      "cell_type": "code",
      "execution_count": 12,
      "metadata": {
        "colab": {
          "base_uri": "https://localhost:8080/"
        },
        "id": "QrZ3Sgalj1pk",
        "outputId": "3a163795-3e45-4728-9b36-3061a4d39641"
      },
      "outputs": [
        {
          "output_type": "stream",
          "name": "stdout",
          "text": [
            "['no', 'yes']\n"
          ]
        }
      ],
      "source": [
        "class_names = train_ds.class_names\n",
        "print(class_names)"
      ]
    },
    {
      "cell_type": "code",
      "execution_count": 13,
      "metadata": {
        "colab": {
          "base_uri": "https://localhost:8080/"
        },
        "id": "aCrpjp4Dj3tQ",
        "outputId": "a069dd6c-4fd5-41db-bd35-0835a134520f"
      },
      "outputs": [
        {
          "output_type": "stream",
          "name": "stdout",
          "text": [
            "(64, 224, 224, 1)\n",
            "(64,)\n"
          ]
        }
      ],
      "source": [
        "for image_batch, labels_batch in train_ds:\n",
        "  print(image_batch.shape)\n",
        "  print(labels_batch.shape)\n",
        "  break"
      ]
    },
    {
      "cell_type": "code",
      "execution_count": 14,
      "metadata": {
        "id": "T8rmRG2mj5Sb"
      },
      "outputs": [],
      "source": [
        "\n",
        "model = tf.keras.models.Sequential([\n",
        "    tf.keras.layers.Conv2D(16, (3,3), activation='relu', input_shape=(224, 224, 1),kernel_regularizer=regularizers.L2(1e-06),\n",
        "    bias_regularizer=regularizers.L2(1e-06),\n",
        "    activity_regularizer=regularizers.L2(1e-06)),\n",
        "    tf.keras.layers.MaxPooling2D(2,2),\n",
        "    tf.keras.layers.Conv2D(32, (3,3), activation='relu',kernel_regularizer=regularizers.L2(1e-06),\n",
        "    bias_regularizer=regularizers.L2(1e-06),\n",
        "    activity_regularizer=regularizers.L2(1e-06)),\n",
        "    tf.keras.layers.MaxPooling2D(2,2),\n",
        "    tf.keras.layers.Conv2D(64, (3,3), activation='relu',kernel_regularizer=regularizers.L2(1e-06),\n",
        "    bias_regularizer=regularizers.L2(1e-06),\n",
        "    activity_regularizer=regularizers.L2(1e-06)), \n",
        "    tf.keras.layers.MaxPooling2D(2,2),\n",
        "    tf.keras.layers.Flatten(),\n",
        "    tf.keras.layers.Dense(512, activation='relu',kernel_regularizer=regularizers.L2(1e-06),\n",
        "    bias_regularizer=regularizers.L2(1e-06),\n",
        "    activity_regularizer=regularizers.L2(1e-06)), \n",
        "    tf.keras.layers.BatchNormalization(),    \n",
        "    tf.keras.layers.Dropout(0.2),\n",
        "    tf.keras.layers.Dense(1, activation='sigmoid')  \n",
        "])"
      ]
    },
    {
      "cell_type": "code",
      "execution_count": 15,
      "metadata": {
        "colab": {
          "base_uri": "https://localhost:8080/"
        },
        "id": "uJ6W1OkKkSX6",
        "outputId": "c4c8f9c6-c348-4807-a296-39ab9fcabb51"
      },
      "outputs": [
        {
          "output_type": "stream",
          "name": "stdout",
          "text": [
            "Model: \"sequential\"\n",
            "_________________________________________________________________\n",
            " Layer (type)                Output Shape              Param #   \n",
            "=================================================================\n",
            " conv2d (Conv2D)             (None, 222, 222, 16)      160       \n",
            "                                                                 \n",
            " max_pooling2d (MaxPooling2D  (None, 111, 111, 16)     0         \n",
            " )                                                               \n",
            "                                                                 \n",
            " conv2d_1 (Conv2D)           (None, 109, 109, 32)      4640      \n",
            "                                                                 \n",
            " max_pooling2d_1 (MaxPooling  (None, 54, 54, 32)       0         \n",
            " 2D)                                                             \n",
            "                                                                 \n",
            " conv2d_2 (Conv2D)           (None, 52, 52, 64)        18496     \n",
            "                                                                 \n",
            " max_pooling2d_2 (MaxPooling  (None, 26, 26, 64)       0         \n",
            " 2D)                                                             \n",
            "                                                                 \n",
            " flatten (Flatten)           (None, 43264)             0         \n",
            "                                                                 \n",
            " dense (Dense)               (None, 512)               22151680  \n",
            "                                                                 \n",
            " batch_normalization (BatchN  (None, 512)              2048      \n",
            " ormalization)                                                   \n",
            "                                                                 \n",
            " dropout (Dropout)           (None, 512)               0         \n",
            "                                                                 \n",
            " dense_1 (Dense)             (None, 1)                 513       \n",
            "                                                                 \n",
            "=================================================================\n",
            "Total params: 22,177,537\n",
            "Trainable params: 22,176,513\n",
            "Non-trainable params: 1,024\n",
            "_________________________________________________________________\n"
          ]
        }
      ],
      "source": [
        "model.summary()"
      ]
    },
    {
      "cell_type": "code",
      "execution_count": 16,
      "metadata": {
        "colab": {
          "base_uri": "https://localhost:8080/"
        },
        "id": "6WVGR_mpkVlI",
        "outputId": "5fdb56c3-dc0d-41d3-c553-e56e48fa13c4"
      },
      "outputs": [
        {
          "output_type": "stream",
          "name": "stderr",
          "text": [
            "WARNING:tensorflow:`period` argument is deprecated. Please use `save_freq` to specify the frequency in number of batches seen.\n"
          ]
        }
      ],
      "source": [
        "from tensorflow.keras.optimizers import Adam\n",
        "opt = Adam(learning_rate=1e-5)\n",
        "model.compile(optimizer=opt, loss=tf.keras.losses.BinaryCrossentropy (from_logits=False), metrics=['accuracy'])\n",
        "from keras.callbacks import ModelCheckpoint, EarlyStopping\n",
        "checkpoint = ModelCheckpoint(\"model_1.h5\", monitor='val_accuracy', verbose=1, save_best_only=True, save_weights_only=False, mode='auto', period=1)\n",
        "# early = EarlyStopping(monitor='val_accuracy', min_delta=0, patience=3, verbose=1, mode='auto')\n",
        "\n",
        "cb = checkpoint"
      ]
    },
    {
      "cell_type": "code",
      "execution_count": 17,
      "metadata": {
        "colab": {
          "base_uri": "https://localhost:8080/"
        },
        "id": "-w97PhJLkbVY",
        "outputId": "3f6bb8f7-360a-4e08-c460-feea33918d9f"
      },
      "outputs": [
        {
          "output_type": "stream",
          "name": "stdout",
          "text": [
            "Epoch 1/10\n",
            "32/32 [==============================] - ETA: 0s - loss: 270.1494 - accuracy: 0.8172\n",
            "Epoch 1: val_accuracy improved from -inf to 0.80735, saving model to model_1.h5\n",
            "32/32 [==============================] - 398s 12s/step - loss: 270.1494 - accuracy: 0.8172 - val_loss: 266.9534 - val_accuracy: 0.8074\n",
            "Epoch 2/10\n",
            "32/32 [==============================] - ETA: 0s - loss: 261.7677 - accuracy: 0.9181\n",
            "Epoch 2: val_accuracy improved from 0.80735 to 0.88529, saving model to model_1.h5\n",
            "32/32 [==============================] - 6s 178ms/step - loss: 261.7677 - accuracy: 0.9181 - val_loss: 258.7345 - val_accuracy: 0.8853\n",
            "Epoch 3/10\n",
            "32/32 [==============================] - ETA: 0s - loss: 254.1181 - accuracy: 0.9505\n",
            "Epoch 3: val_accuracy improved from 0.88529 to 0.90000, saving model to model_1.h5\n",
            "32/32 [==============================] - 7s 183ms/step - loss: 254.1181 - accuracy: 0.9505 - val_loss: 251.3877 - val_accuracy: 0.9000\n",
            "Epoch 4/10\n",
            "32/32 [==============================] - ETA: 0s - loss: 247.0258 - accuracy: 0.9740\n",
            "Epoch 4: val_accuracy improved from 0.90000 to 0.90735, saving model to model_1.h5\n",
            "32/32 [==============================] - 7s 195ms/step - loss: 247.0258 - accuracy: 0.9740 - val_loss: 244.5068 - val_accuracy: 0.9074\n",
            "Epoch 5/10\n",
            "32/32 [==============================] - ETA: 0s - loss: 240.3799 - accuracy: 0.9824\n",
            "Epoch 5: val_accuracy improved from 0.90735 to 0.92794, saving model to model_1.h5\n",
            "32/32 [==============================] - 6s 179ms/step - loss: 240.3799 - accuracy: 0.9824 - val_loss: 238.0364 - val_accuracy: 0.9279\n",
            "Epoch 6/10\n",
            "32/32 [==============================] - ETA: 0s - loss: 234.1225 - accuracy: 0.9892\n",
            "Epoch 6: val_accuracy improved from 0.92794 to 0.95588, saving model to model_1.h5\n",
            "32/32 [==============================] - 7s 188ms/step - loss: 234.1225 - accuracy: 0.9892 - val_loss: 231.9360 - val_accuracy: 0.9559\n",
            "Epoch 7/10\n",
            "32/32 [==============================] - ETA: 0s - loss: 228.2278 - accuracy: 0.9922\n",
            "Epoch 7: val_accuracy improved from 0.95588 to 0.96029, saving model to model_1.h5\n",
            "32/32 [==============================] - 7s 200ms/step - loss: 228.2278 - accuracy: 0.9922 - val_loss: 226.1463 - val_accuracy: 0.9603\n",
            "Epoch 8/10\n",
            "32/32 [==============================] - ETA: 0s - loss: 222.6040 - accuracy: 0.9946\n",
            "Epoch 8: val_accuracy improved from 0.96029 to 0.96176, saving model to model_1.h5\n",
            "32/32 [==============================] - 7s 187ms/step - loss: 222.6040 - accuracy: 0.9946 - val_loss: 220.6564 - val_accuracy: 0.9618\n",
            "Epoch 9/10\n",
            "32/32 [==============================] - ETA: 0s - loss: 217.2551 - accuracy: 0.9975\n",
            "Epoch 9: val_accuracy improved from 0.96176 to 0.96324, saving model to model_1.h5\n",
            "32/32 [==============================] - 7s 198ms/step - loss: 217.2551 - accuracy: 0.9975 - val_loss: 215.4096 - val_accuracy: 0.9632\n",
            "Epoch 10/10\n",
            "32/32 [==============================] - ETA: 0s - loss: 212.1303 - accuracy: 0.9975\n",
            "Epoch 10: val_accuracy improved from 0.96324 to 0.96618, saving model to model_1.h5\n",
            "32/32 [==============================] - 6s 178ms/step - loss: 212.1303 - accuracy: 0.9975 - val_loss: 210.4226 - val_accuracy: 0.9662\n"
          ]
        }
      ],
      "source": [
        "history = model.fit(train_ds,epochs=10, validation_data=val_ds, callbacks = cb)"
      ]
    },
    {
      "cell_type": "code",
      "execution_count": 18,
      "metadata": {
        "id": "ZfAYYfNVkhzr"
      },
      "outputs": [],
      "source": [
        "predictions = np.array([])\n",
        "labels =  np.array([])\n",
        "i=0;\n",
        "for x, y in test_ds:\n",
        "    i+=1\n",
        "    z=model.predict(x)\n",
        "    xx = np.round(z)\n",
        "    prediction=np.concatenate([predictions,xx[:,-1]])\n",
        "    labels = np.concatenate([labels, y.numpy()])"
      ]
    },
    {
      "cell_type": "code",
      "execution_count": 19,
      "metadata": {
        "id": "Ui2IP2y2k1Ze",
        "colab": {
          "base_uri": "https://localhost:8080/"
        },
        "outputId": "991a05ce-109b-4969-ba20-58108d4b2d5c"
      },
      "outputs": [
        {
          "output_type": "stream",
          "name": "stdout",
          "text": [
            "1/1 [==============================] - 2s 2s/step - loss: 178.5618 - accuracy: 0.9488\n"
          ]
        }
      ],
      "source": [
        "evaluation = model.evaluate(test_ds, return_dict=True)"
      ]
    },
    {
      "cell_type": "code",
      "execution_count": 20,
      "metadata": {
        "id": "5Zt65kUxk77z",
        "colab": {
          "base_uri": "https://localhost:8080/"
        },
        "outputId": "0fa7488f-f9a1-49ca-c372-6a53e1865eeb"
      },
      "outputs": [
        {
          "output_type": "stream",
          "name": "stdout",
          "text": [
            "              precision    recall  f1-score   support\n",
            "\n",
            "         0.0       0.92      0.97      0.95       232\n",
            "         1.0       0.98      0.93      0.95       256\n",
            "\n",
            "    accuracy                           0.95       488\n",
            "   macro avg       0.95      0.95      0.95       488\n",
            "weighted avg       0.95      0.95      0.95       488\n",
            "\n"
          ]
        }
      ],
      "source": [
        "import sklearn\n",
        "print(sklearn.metrics.classification_report(prediction,labels))"
      ]
    },
    {
      "cell_type": "code",
      "execution_count": 21,
      "metadata": {
        "id": "8DkxZ8O6k8cy",
        "colab": {
          "base_uri": "https://localhost:8080/"
        },
        "outputId": "ede94e7f-cfa8-4e32-82da-ff35ad45cfc1"
      },
      "outputs": [
        {
          "output_type": "execute_result",
          "data": {
            "text/plain": [
              "array([0., 1., 1., 0., 1., 1., 1., 0., 0., 0., 1., 1., 0., 1., 1., 0., 1.,\n",
              "       0., 0., 1., 1., 0., 1., 0., 1., 1., 1., 1., 0., 0., 1., 0., 1., 0.,\n",
              "       0., 1., 1., 0., 0., 0., 0., 0., 1., 1., 0., 0., 0., 0., 0., 1., 0.,\n",
              "       1., 0., 1., 1., 0., 1., 0., 0., 0., 0., 0., 0., 0., 1., 1., 1., 0.,\n",
              "       1., 1., 1., 1., 0., 0., 1., 1., 1., 0., 1., 1., 0., 1., 1., 0., 1.,\n",
              "       1., 0., 1., 0., 1., 0., 1., 1., 1., 0., 0., 0., 1., 0., 0., 0., 1.,\n",
              "       0., 1., 1., 1., 0., 1., 1., 1., 0., 1., 1., 0., 1., 1., 0., 0., 1.,\n",
              "       0., 0., 1., 0., 1., 1., 1., 0., 0., 0., 0., 0., 0., 1., 0., 0., 1.,\n",
              "       0., 1., 1., 1., 0., 0., 1., 0., 0., 0., 1., 1., 1., 0., 0., 1., 0.,\n",
              "       1., 1., 1., 1., 0., 0., 1., 0., 1., 0., 1., 1., 1., 0., 1., 1., 0.,\n",
              "       1., 0., 0., 1., 1., 0., 0., 1., 0., 0., 1., 1., 1., 0., 0., 1., 1.,\n",
              "       1., 0., 0., 1., 1., 1., 0., 0., 1., 0., 0., 1., 0., 0., 1., 0., 1.,\n",
              "       0., 1., 1., 1., 1., 0., 0., 1., 1., 0., 0., 0., 0., 1., 1., 1., 0.,\n",
              "       1., 0., 1., 1., 0., 1., 1., 1., 0., 1., 0., 1., 0., 1., 0., 1., 0.,\n",
              "       1., 1., 0., 0., 1., 1., 0., 1., 1., 0., 0., 1., 0., 0., 0., 1., 0.,\n",
              "       0., 0., 1., 0., 1., 1., 1., 1., 1., 0., 1., 1., 1., 1., 0., 1., 0.,\n",
              "       1., 1., 0., 0., 1., 1., 0., 0., 1., 1., 1., 0., 0., 1., 0., 0., 1.,\n",
              "       1., 1., 0., 1., 0., 0., 1., 1., 0., 0., 0., 0., 1., 0., 0., 1., 0.,\n",
              "       1., 0., 1., 0., 1., 1., 1., 0., 0., 1., 1., 1., 0., 1., 0., 0., 0.,\n",
              "       0., 0., 0., 0., 0., 1., 0., 0., 1., 0., 0., 1., 1., 0., 0., 0., 0.,\n",
              "       1., 0., 0., 1., 1., 0., 0., 1., 1., 0., 1., 0., 1., 1., 0., 1., 1.,\n",
              "       0., 0., 0., 0., 1., 0., 1., 0., 1., 0., 1., 1., 1., 0., 0., 1., 1.,\n",
              "       1., 0., 0., 0., 1., 0., 1., 0., 1., 0., 1., 0., 1., 0., 0., 1., 0.,\n",
              "       1., 1., 0., 1., 0., 1., 1., 0., 1., 1., 0., 0., 1., 0., 1., 1., 0.,\n",
              "       0., 1., 0., 0., 0., 1., 1., 1., 0., 0., 1., 0., 0., 1., 0., 0., 1.,\n",
              "       0., 0., 1., 1., 0., 1., 0., 1., 0., 0., 0., 1., 1., 1., 0., 0., 1.,\n",
              "       0., 1., 1., 1., 0., 0., 1., 1., 1., 1., 1., 1., 1., 1., 0., 0., 1.,\n",
              "       1., 0., 1., 0., 0., 0., 0., 1., 1., 0., 0., 0., 1., 0., 1., 0., 0.,\n",
              "       1., 0., 1., 0., 0., 0., 1., 0., 0., 1., 0., 0.])"
            ]
          },
          "metadata": {},
          "execution_count": 21
        }
      ],
      "source": [
        "labels"
      ]
    },
    {
      "cell_type": "code",
      "execution_count": 22,
      "metadata": {
        "id": "S9K2soN-CYzF",
        "colab": {
          "base_uri": "https://localhost:8080/"
        },
        "outputId": "2e802dd1-e541-420e-c977-28253f69ac93"
      },
      "outputs": [
        {
          "output_type": "execute_result",
          "data": {
            "text/plain": [
              "array([0., 1., 1., 0., 1., 1., 1., 0., 0., 0., 1., 1., 0., 1., 1., 0., 1.,\n",
              "       0., 0., 1., 1., 0., 1., 0., 1., 1., 1., 1., 0., 0., 1., 0., 1., 0.,\n",
              "       0., 1., 1., 0., 0., 0., 0., 0., 1., 1., 0., 1., 0., 0., 0., 1., 0.,\n",
              "       1., 0., 1., 1., 0., 1., 0., 0., 0., 0., 0., 0., 0., 1., 1., 1., 0.,\n",
              "       1., 1., 1., 1., 0., 0., 1., 0., 1., 0., 1., 1., 0., 1., 1., 0., 1.,\n",
              "       1., 0., 1., 0., 1., 0., 1., 1., 1., 0., 1., 0., 1., 0., 0., 0., 1.,\n",
              "       0., 1., 1., 1., 0., 1., 1., 1., 0., 1., 1., 0., 1., 1., 0., 0., 1.,\n",
              "       0., 0., 1., 0., 1., 1., 1., 0., 0., 0., 0., 0., 0., 1., 0., 0., 1.,\n",
              "       0., 1., 1., 1., 0., 1., 1., 1., 0., 0., 1., 1., 1., 0., 0., 1., 0.,\n",
              "       1., 1., 1., 1., 0., 0., 1., 0., 1., 0., 1., 1., 1., 0., 1., 1., 0.,\n",
              "       1., 0., 0., 1., 1., 0., 0., 1., 0., 0., 1., 1., 1., 1., 0., 1., 1.,\n",
              "       1., 0., 0., 1., 1., 1., 0., 0., 1., 0., 0., 1., 0., 0., 1., 0., 1.,\n",
              "       0., 1., 1., 1., 1., 0., 0., 1., 1., 0., 0., 0., 0., 1., 1., 1., 0.,\n",
              "       1., 0., 1., 0., 0., 1., 1., 1., 0., 1., 0., 1., 1., 1., 0., 1., 0.,\n",
              "       1., 1., 0., 0., 1., 1., 0., 1., 1., 0., 0., 1., 0., 0., 0., 1., 0.,\n",
              "       0., 0., 1., 0., 1., 1., 1., 1., 1., 0., 1., 1., 1., 1., 0., 1., 0.,\n",
              "       1., 1., 1., 0., 1., 1., 0., 0., 1., 1., 1., 0., 0., 1., 0., 0., 1.,\n",
              "       1., 1., 0., 1., 0., 0., 1., 1., 0., 0., 0., 0., 1., 0., 0., 1., 0.,\n",
              "       1., 0., 1., 0., 1., 1., 1., 0., 0., 1., 1., 1., 0., 1., 0., 0., 0.,\n",
              "       0., 0., 0., 0., 0., 1., 0., 0., 1., 0., 1., 1., 1., 1., 0., 0., 0.,\n",
              "       1., 0., 0., 1., 1., 0., 1., 1., 1., 0., 1., 0., 1., 1., 0., 1., 1.,\n",
              "       0., 0., 0., 0., 1., 0., 1., 0., 1., 0., 1., 1., 0., 0., 0., 1., 1.,\n",
              "       1., 0., 0., 0., 1., 1., 0., 0., 1., 1., 1., 0., 1., 0., 0., 1., 1.,\n",
              "       1., 1., 0., 1., 0., 1., 1., 0., 1., 1., 0., 0., 1., 0., 1., 1., 0.,\n",
              "       0., 1., 0., 0., 0., 1., 1., 1., 0., 0., 0., 0., 1., 1., 0., 0., 1.,\n",
              "       0., 0., 1., 1., 0., 1., 0., 1., 1., 0., 0., 1., 1., 1., 0., 0., 1.,\n",
              "       1., 1., 1., 1., 0., 0., 1., 1., 1., 1., 1., 1., 0., 1., 0., 1., 1.,\n",
              "       1., 0., 1., 0., 0., 0., 0., 1., 1., 0., 0., 0., 1., 0., 1., 0., 0.,\n",
              "       1., 0., 1., 1., 0., 0., 1., 0., 0., 1., 1., 0.])"
            ]
          },
          "metadata": {},
          "execution_count": 22
        }
      ],
      "source": [
        "prediction"
      ]
    },
    {
      "cell_type": "code",
      "execution_count": 23,
      "metadata": {
        "id": "yI8elzZMCa0r",
        "colab": {
          "base_uri": "https://localhost:8080/",
          "height": 499
        },
        "outputId": "b4bc517b-9275-4e26-e218-828b1ad6d7bb"
      },
      "outputs": [
        {
          "output_type": "display_data",
          "data": {
            "text/plain": [
              "<Figure size 576x576 with 2 Axes>"
            ],
            "image/png": "[encoded data removed]"
          },
          "metadata": {
            "needs_background": "light"
          }
        }
      ],
      "source": [
        "acc = history.history['accuracy']\n",
        "val_acc = history.history['val_accuracy']\n",
        "\n",
        "loss = history.history['loss']\n",
        "val_loss = history.history['val_loss']\n",
        "\n",
        "epochs_range = range(10)\n",
        "\n",
        "plt.figure(figsize=(8, 8))\n",
        "plt.subplot(1, 2, 1)\n",
        "plt.plot(epochs_range, acc, label='Training Accuracy')\n",
        "plt.plot(epochs_range, val_acc, label='Validation Accuracy')\n",
        "plt.legend(loc='lower right')\n",
        "plt.title('Training and Validation Accuracy')\n",
        "\n",
        "plt.subplot(1, 2, 2)\n",
        "plt.plot(epochs_range, loss, label='Training Loss')\n",
        "plt.plot(epochs_range, val_loss, label='Validation Loss')\n",
        "plt.legend(loc='upper right')\n",
        "plt.title('Training and Validation Loss')\n",
        "plt.show()"
      ]
    },
    {
      "cell_type": "code",
      "source": [
        "from sklearn.metrics import confusion_matrix\n",
        "cf_matrix = confusion_matrix(labels,prediction)\n",
        "import seaborn as sns\n",
        "sns.heatmap(cf_matrix, annot=True)"
      ],
      "metadata": {
        "colab": {
          "base_uri": "https://localhost:8080/",
          "height": 282
        },
        "id": "7r6JZQgsM_CU",
        "outputId": "f99d6bd5-e404-4124-a7f9-f470b2efe13c"
      },
      "execution_count": 24,
      "outputs": [
        {
          "output_type": "execute_result",
          "data": {
            "text/plain": [
              "<matplotlib.axes._subplots.AxesSubplot at 0x7f89303e70d0>"
            ]
          },
          "metadata": {},
          "execution_count": 24
        },
        {
          "output_type": "display_data",
          "data": {
            "text/plain": [
              "<Figure size 432x288 with 2 Axes>"
            ],
            "image/png": "[encoded data removed]"
          },
          "metadata": {
            "needs_background": "light"
          }
        }
      ]
    }
  ],
  "metadata": {
    "accelerator": "GPU",
    "colab": {
      "collapsed_sections": [],
      "provenance": []
    },
    "gpuClass": "standard",
    "kernelspec": {
      "display_name": "Python 3",
      "name": "python3"
    },
    "language_info": {
      "name": "python"
    }
  },
  "nbformat": 4,
  "nbformat_minor": 0
}