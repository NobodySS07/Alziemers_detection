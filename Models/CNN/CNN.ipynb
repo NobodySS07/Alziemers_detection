{
  "cells": [
    {
      "cell_type": "code",
      "execution_count": 1,
      "metadata": {
        "id": "Z_0xPVY1jGJF"
      },
      "outputs": [],
      "source": [
        "import tensorflow as tf\n",
        "from tensorflow.keras import models, layers\n",
        "import matplotlib.pyplot as plt\n",
        "from tensorflow.keras import regularizers\n",
        "import numpy as np\n",
        "from sklearn.metrics import confusion_matrix\n",
        "from sklearn.model_selection import train_test_split"
      ]
    },
    {
      "cell_type": "code",
      "execution_count": 2,
      "metadata": {
        "id": "eROuKUOYjXZY"
      },
      "outputs": [],
      "source": [
        "train_d = '/content/drive/MyDrive/Brain/Train'\n",
        "test_d = '/content/drive/MyDrive/Brain/Test'"
      ]
    },
    {
      "cell_type": "code",
      "execution_count": 3,
      "metadata": {
        "id": "o1mEgaBhjp2_"
      },
      "outputs": [],
      "source": [
        "batch_size = 64\n",
        "img_height = 224\n",
        "img_size=224"
      ]
    },
    {
      "cell_type": "code",
      "execution_count": 4,
      "metadata": {
        "colab": {
          "base_uri": "https://localhost:8080/"
        },
        "id": "B1H69fQcjroB",
        "outputId": "a9198bc9-6dde-4db4-aaa3-c60a8635554f"
      },
      "outputs": [
        {
          "output_type": "stream",
          "name": "stdout",
          "text": [
            "Found 2720 files belonging to 2 classes.\n",
            "Using 2040 files for training.\n"
          ]
        }
      ],
      "source": [
        "train_ds = tf.keras.utils.image_dataset_from_directory(\n",
        "  train_d,\n",
        "  validation_split=0.25,\n",
        "  subset=\"training\",\n",
        "  seed=123,\n",
        "  image_size=(img_size,img_size),\n",
        "  batch_size=batch_size,color_mode='grayscale')"
      ]
    },
    {
      "cell_type": "code",
      "execution_count": 18,
      "metadata": {
        "colab": {
          "base_uri": "https://localhost:8080/"
        },
        "id": "kfBB5gx4juj-",
        "outputId": "7ca76cb1-6600-4c5c-b60b-1b98268710d3"
      },
      "outputs": [
        {
          "output_type": "stream",
          "name": "stdout",
          "text": [
            "Found 488 files belonging to 2 classes.\n"
          ]
        }
      ],
      "source": [
        "test_ds= tf.keras.utils.image_dataset_from_directory(\n",
        "  test_d,\n",
        "  seed=123,\n",
        "  image_size=(img_size,img_size),color_mode='grayscale',batch_size=488)"
      ]
    },
    {
      "cell_type": "code",
      "execution_count": 6,
      "metadata": {
        "colab": {
          "base_uri": "https://localhost:8080/"
        },
        "id": "etqHMH5XjzTI",
        "outputId": "aef29426-3600-474c-8837-98e3dcc30fbc"
      },
      "outputs": [
        {
          "output_type": "stream",
          "name": "stdout",
          "text": [
            "Found 2720 files belonging to 2 classes.\n",
            "Using 680 files for validation.\n"
          ]
        }
      ],
      "source": [
        "val_ds = tf.keras.utils.image_dataset_from_directory(\n",
        "  train_d,\n",
        "  validation_split=0.25,\n",
        "  subset=\"validation\",\n",
        "  seed=123,\n",
        "  image_size=(img_size,img_size),\n",
        "  batch_size=batch_size,color_mode='grayscale')"
      ]
    },
    {
      "cell_type": "code",
      "execution_count": 7,
      "metadata": {
        "colab": {
          "base_uri": "https://localhost:8080/"
        },
        "id": "QrZ3Sgalj1pk",
        "outputId": "15fadaf3-bf1d-464d-80af-8b52a55bd37e"
      },
      "outputs": [
        {
          "output_type": "stream",
          "name": "stdout",
          "text": [
            "['no', 'yes']\n"
          ]
        }
      ],
      "source": [
        "class_names = train_ds.class_names\n",
        "print(class_names)"
      ]
    },
    {
      "cell_type": "code",
      "execution_count": 8,
      "metadata": {
        "colab": {
          "base_uri": "https://localhost:8080/"
        },
        "id": "aCrpjp4Dj3tQ",
        "outputId": "2c4a2b07-1169-4a7e-feb4-1231fd9801df"
      },
      "outputs": [
        {
          "output_type": "stream",
          "name": "stdout",
          "text": [
            "(64, 224, 224, 1)\n",
            "(64,)\n"
          ]
        }
      ],
      "source": [
        "for image_batch, labels_batch in train_ds:\n",
        "  print(image_batch.shape)\n",
        "  print(labels_batch.shape)\n",
        "  break"
      ]
    },
    {
      "cell_type": "code",
      "execution_count": 9,
      "metadata": {
        "id": "97pT2V5OEj6h"
      },
      "outputs": [],
      "source": [
        "model =  tf.keras.models.Sequential()\n",
        "model.add( tf.keras.layers.Conv2D(32,kernel_size=(3,3),activation='relu',input_shape=(224,224,1)))\n",
        "model.add( tf.keras.layers.Conv2D(64,(3,3),activation='relu'))\n",
        "model.add( tf.keras.layers.MaxPooling2D(pool_size=(2,2)))\n",
        "model.add( tf.keras.layers.Conv2D(64,(3,3),activation='relu'))\n",
        "model.add( tf.keras.layers.MaxPooling2D(pool_size=(2,2)))\n",
        "model.add( tf.keras.layers.Conv2D(128,(3,3),activation='relu'))\n",
        "model.add( tf.keras.layers.MaxPooling2D(pool_size=(2,2)))\n",
        "model.add( tf.keras.layers.Flatten())\n",
        "model.add( tf.keras.layers.Dense(256,activation='relu'))\n",
        "model.add(tf.keras.layers.BatchNormalization())\n",
        "model.add( tf.keras.layers.Dropout(0.5))\n",
        "model.add( tf.keras.layers.Dense(1,activation='sigmoid'))"
      ]
    },
    {
      "cell_type": "code",
      "execution_count": 10,
      "metadata": {
        "colab": {
          "base_uri": "https://localhost:8080/"
        },
        "id": "uJ6W1OkKkSX6",
        "outputId": "5d88e270-c9f5-4e1d-e8a3-068f4fd26979"
      },
      "outputs": [
        {
          "output_type": "stream",
          "name": "stdout",
          "text": [
            "Model: \"sequential\"\n",
            "_________________________________________________________________\n",
            " Layer (type)                Output Shape              Param #   \n",
            "=================================================================\n",
            " conv2d (Conv2D)             (None, 222, 222, 32)      320       \n",
            "                                                                 \n",
            " conv2d_1 (Conv2D)           (None, 220, 220, 64)      18496     \n",
            "                                                                 \n",
            " max_pooling2d (MaxPooling2D  (None, 110, 110, 64)     0         \n",
            " )                                                               \n",
            "                                                                 \n",
            " conv2d_2 (Conv2D)           (None, 108, 108, 64)      36928     \n",
            "                                                                 \n",
            " max_pooling2d_1 (MaxPooling  (None, 54, 54, 64)       0         \n",
            " 2D)                                                             \n",
            "                                                                 \n",
            " conv2d_3 (Conv2D)           (None, 52, 52, 128)       73856     \n",
            "                                                                 \n",
            " max_pooling2d_2 (MaxPooling  (None, 26, 26, 128)      0         \n",
            " 2D)                                                             \n",
            "                                                                 \n",
            " flatten (Flatten)           (None, 86528)             0         \n",
            "                                                                 \n",
            " dense (Dense)               (None, 256)               22151424  \n",
            "                                                                 \n",
            " batch_normalization (BatchN  (None, 256)              1024      \n",
            " ormalization)                                                   \n",
            "                                                                 \n",
            " dropout (Dropout)           (None, 256)               0         \n",
            "                                                                 \n",
            " dense_1 (Dense)             (None, 1)                 257       \n",
            "                                                                 \n",
            "=================================================================\n",
            "Total params: 22,282,305\n",
            "Trainable params: 22,281,793\n",
            "Non-trainable params: 512\n",
            "_________________________________________________________________\n"
          ]
        }
      ],
      "source": [
        "model.summary()"
      ]
    },
    {
      "cell_type": "code",
      "execution_count": 11,
      "metadata": {
        "colab": {
          "base_uri": "https://localhost:8080/"
        },
        "id": "6WVGR_mpkVlI",
        "outputId": "e5d96dfb-218f-44b6-d416-8903e3a2fb6c"
      },
      "outputs": [
        {
          "output_type": "stream",
          "name": "stderr",
          "text": [
            "WARNING:tensorflow:`period` argument is deprecated. Please use `save_freq` to specify the frequency in number of batches seen.\n"
          ]
        }
      ],
      "source": [
        "from tensorflow.keras.optimizers import Adam\n",
        "opt = Adam(learning_rate=1e-5)\n",
        "model.compile(optimizer=opt, loss=tf.keras.losses.BinaryCrossentropy (from_logits=False), metrics=['accuracy'])\n",
        "from keras.callbacks import ModelCheckpoint, EarlyStopping\n",
        "checkpoint = ModelCheckpoint(\"model_1.h5\", monitor='val_accuracy', verbose=1, save_best_only=True, save_weights_only=False, mode='auto', period=1)\n",
        "# early = EarlyStopping(monitor='val_accuracy', min_delta=0, patience=3, verbose=1, mode='auto')\n",
        "\n",
        "cb = checkpoint"
      ]
    },
    {
      "cell_type": "code",
      "execution_count": 12,
      "metadata": {
        "colab": {
          "base_uri": "https://localhost:8080/"
        },
        "id": "-w97PhJLkbVY",
        "outputId": "910459a7-5ee3-4dcf-ede8-8622955d4b21"
      },
      "outputs": [
        {
          "output_type": "stream",
          "name": "stdout",
          "text": [
            "Epoch 1/10\n",
            "32/32 [==============================] - ETA: 0s - loss: 0.5212 - accuracy: 0.7701\n",
            "Epoch 1: val_accuracy improved from -inf to 0.78382, saving model to model_1.h5\n",
            "32/32 [==============================] - 162s 5s/step - loss: 0.5212 - accuracy: 0.7701 - val_loss: 1.0442 - val_accuracy: 0.7838\n",
            "Epoch 2/10\n",
            "32/32 [==============================] - ETA: 0s - loss: 0.3384 - accuracy: 0.8534\n",
            "Epoch 2: val_accuracy improved from 0.78382 to 0.85441, saving model to model_1.h5\n",
            "32/32 [==============================] - 12s 342ms/step - loss: 0.3384 - accuracy: 0.8534 - val_loss: 0.3966 - val_accuracy: 0.8544\n",
            "Epoch 3/10\n",
            "32/32 [==============================] - ETA: 0s - loss: 0.2652 - accuracy: 0.8907\n",
            "Epoch 3: val_accuracy improved from 0.85441 to 0.89118, saving model to model_1.h5\n",
            "32/32 [==============================] - 12s 341ms/step - loss: 0.2652 - accuracy: 0.8907 - val_loss: 0.3008 - val_accuracy: 0.8912\n",
            "Epoch 4/10\n",
            "32/32 [==============================] - ETA: 0s - loss: 0.2282 - accuracy: 0.9132\n",
            "Epoch 4: val_accuracy improved from 0.89118 to 0.89559, saving model to model_1.h5\n",
            "32/32 [==============================] - 12s 347ms/step - loss: 0.2282 - accuracy: 0.9132 - val_loss: 0.2835 - val_accuracy: 0.8956\n",
            "Epoch 5/10\n",
            "32/32 [==============================] - ETA: 0s - loss: 0.1730 - accuracy: 0.9373\n",
            "Epoch 5: val_accuracy improved from 0.89559 to 0.89706, saving model to model_1.h5\n",
            "32/32 [==============================] - 12s 347ms/step - loss: 0.1730 - accuracy: 0.9373 - val_loss: 0.2345 - val_accuracy: 0.8971\n",
            "Epoch 6/10\n",
            "32/32 [==============================] - ETA: 0s - loss: 0.1536 - accuracy: 0.9500\n",
            "Epoch 6: val_accuracy improved from 0.89706 to 0.91471, saving model to model_1.h5\n",
            "32/32 [==============================] - 12s 352ms/step - loss: 0.1536 - accuracy: 0.9500 - val_loss: 0.2306 - val_accuracy: 0.9147\n",
            "Epoch 7/10\n",
            "32/32 [==============================] - ETA: 0s - loss: 0.1387 - accuracy: 0.9534\n",
            "Epoch 7: val_accuracy did not improve from 0.91471\n",
            "32/32 [==============================] - 11s 330ms/step - loss: 0.1387 - accuracy: 0.9534 - val_loss: 0.2152 - val_accuracy: 0.9118\n",
            "Epoch 8/10\n",
            "32/32 [==============================] - ETA: 0s - loss: 0.0982 - accuracy: 0.9770\n",
            "Epoch 8: val_accuracy improved from 0.91471 to 0.95294, saving model to model_1.h5\n",
            "32/32 [==============================] - 12s 351ms/step - loss: 0.0982 - accuracy: 0.9770 - val_loss: 0.1485 - val_accuracy: 0.9529\n",
            "Epoch 9/10\n",
            "32/32 [==============================] - ETA: 0s - loss: 0.0863 - accuracy: 0.9804\n",
            "Epoch 9: val_accuracy did not improve from 0.95294\n",
            "32/32 [==============================] - 11s 327ms/step - loss: 0.0863 - accuracy: 0.9804 - val_loss: 0.1477 - val_accuracy: 0.9456\n",
            "Epoch 10/10\n",
            "32/32 [==============================] - ETA: 0s - loss: 0.0869 - accuracy: 0.9765\n",
            "Epoch 10: val_accuracy improved from 0.95294 to 0.95441, saving model to model_1.h5\n",
            "32/32 [==============================] - 12s 351ms/step - loss: 0.0869 - accuracy: 0.9765 - val_loss: 0.1391 - val_accuracy: 0.9544\n"
          ]
        }
      ],
      "source": [
        "history = model.fit(train_ds,epochs=10, validation_data=val_ds, callbacks = cb)"
      ]
    },
    {
      "cell_type": "code",
      "execution_count": 19,
      "metadata": {
        "id": "ZfAYYfNVkhzr"
      },
      "outputs": [],
      "source": [
        "predictions = np.array([])\n",
        "labels =  np.array([])\n",
        "i=0;\n",
        "for x, y in test_ds:\n",
        "    i+=1\n",
        "    z=model.predict(x)\n",
        "    xx = np.round(z)\n",
        "    prediction=np.concatenate([predictions,xx[:,-1]])\n",
        "    labels = np.concatenate([labels, y.numpy()])"
      ]
    },
    {
      "cell_type": "code",
      "execution_count": 20,
      "metadata": {
        "colab": {
          "base_uri": "https://localhost:8080/"
        },
        "id": "Ui2IP2y2k1Ze",
        "outputId": "0c20afe2-8296-4b41-a6d6-a3117cbdbcec"
      },
      "outputs": [
        {
          "output_type": "stream",
          "name": "stdout",
          "text": [
            "1/1 [==============================] - 16s 16s/step - loss: 0.1784 - accuracy: 0.9385\n"
          ]
        }
      ],
      "source": [
        "evaluation = model.evaluate(test_ds, return_dict=True)"
      ]
    },
    {
      "cell_type": "code",
      "execution_count": 21,
      "metadata": {
        "colab": {
          "base_uri": "https://localhost:8080/"
        },
        "id": "5Zt65kUxk77z",
        "outputId": "e126eb3f-69dc-48fa-b0c6-73ced3318efb"
      },
      "outputs": [
        {
          "output_type": "stream",
          "name": "stdout",
          "text": [
            "              precision    recall  f1-score   support\n",
            "\n",
            "         0.0       0.95      0.93      0.94       249\n",
            "         1.0       0.93      0.95      0.94       239\n",
            "\n",
            "    accuracy                           0.94       488\n",
            "   macro avg       0.94      0.94      0.94       488\n",
            "weighted avg       0.94      0.94      0.94       488\n",
            "\n"
          ]
        }
      ],
      "source": [
        "import sklearn\n",
        "print(sklearn.metrics.classification_report(prediction,labels))"
      ]
    },
    {
      "cell_type": "code",
      "execution_count": 22,
      "metadata": {
        "colab": {
          "base_uri": "https://localhost:8080/"
        },
        "id": "8DkxZ8O6k8cy",
        "outputId": "f1719ca2-bbb7-4344-bca1-a195b11091b8"
      },
      "outputs": [
        {
          "output_type": "execute_result",
          "data": {
            "text/plain": [
              "array([0., 1., 1., 0., 1., 1., 1., 0., 0., 0., 1., 1., 0., 1., 1., 0., 1.,\n",
              "       0., 0., 1., 1., 0., 1., 0., 1., 1., 1., 1., 0., 0., 1., 0., 1., 0.,\n",
              "       0., 1., 1., 0., 0., 0., 0., 0., 1., 1., 0., 0., 0., 0., 0., 1., 0.,\n",
              "       1., 0., 1., 1., 0., 1., 0., 0., 0., 0., 0., 0., 0., 1., 1., 1., 0.,\n",
              "       1., 1., 1., 1., 0., 0., 1., 1., 1., 0., 1., 1., 0., 1., 1., 0., 1.,\n",
              "       1., 0., 1., 0., 1., 0., 1., 1., 1., 0., 0., 0., 1., 0., 0., 0., 1.,\n",
              "       0., 1., 1., 1., 0., 1., 1., 1., 0., 1., 1., 0., 1., 1., 0., 0., 1.,\n",
              "       0., 0., 1., 0., 1., 1., 1., 0., 0., 0., 0., 0., 0., 1., 0., 0., 1.,\n",
              "       0., 1., 1., 1., 0., 0., 1., 0., 0., 0., 1., 1., 1., 0., 0., 1., 0.,\n",
              "       1., 1., 1., 1., 0., 0., 1., 0., 1., 0., 1., 1., 1., 0., 1., 1., 0.,\n",
              "       1., 0., 0., 1., 1., 0., 0., 1., 0., 0., 1., 1., 1., 0., 0., 1., 1.,\n",
              "       1., 0., 0., 1., 1., 1., 0., 0., 1., 0., 0., 1., 0., 0., 1., 0., 1.,\n",
              "       0., 1., 1., 1., 1., 0., 0., 1., 1., 0., 0., 0., 0., 1., 1., 1., 0.,\n",
              "       1., 0., 1., 1., 0., 1., 1., 1., 0., 1., 0., 1., 0., 1., 0., 1., 0.,\n",
              "       1., 1., 0., 0., 1., 1., 0., 1., 1., 0., 0., 1., 0., 0., 0., 1., 0.,\n",
              "       0., 0., 1., 0., 1., 1., 1., 1., 1., 0., 1., 1., 1., 1., 0., 1., 0.,\n",
              "       1., 1., 0., 0., 1., 1., 0., 0., 1., 1., 1., 0., 0., 1., 0., 0., 1.,\n",
              "       1., 1., 0., 1., 0., 0., 1., 1., 0., 0., 0., 0., 1., 0., 0., 1., 0.,\n",
              "       1., 0., 1., 0., 1., 1., 1., 0., 0., 1., 1., 1., 0., 1., 0., 0., 0.,\n",
              "       0., 0., 0., 0., 0., 1., 0., 0., 1., 0., 0., 1., 1., 0., 0., 0., 0.,\n",
              "       1., 0., 0., 1., 1., 0., 0., 1., 1., 0., 1., 0., 1., 1., 0., 1., 1.,\n",
              "       0., 0., 0., 0., 1., 0., 1., 0., 1., 0., 1., 1., 1., 0., 0., 1., 1.,\n",
              "       1., 0., 0., 0., 1., 0., 1., 0., 1., 0., 1., 0., 1., 0., 0., 1., 0.,\n",
              "       1., 1., 0., 1., 0., 1., 1., 0., 1., 1., 0., 0., 1., 0., 1., 1., 0.,\n",
              "       0., 1., 0., 0., 0., 1., 1., 1., 0., 0., 1., 0., 0., 1., 0., 0., 1.,\n",
              "       0., 0., 1., 1., 0., 1., 0., 1., 0., 0., 0., 1., 1., 1., 0., 0., 1.,\n",
              "       0., 1., 1., 1., 0., 0., 1., 1., 1., 1., 1., 1., 1., 1., 0., 0., 1.,\n",
              "       1., 0., 1., 0., 0., 0., 0., 1., 1., 0., 0., 0., 1., 0., 1., 0., 0.,\n",
              "       1., 0., 1., 0., 0., 0., 1., 0., 0., 1., 0., 0.])"
            ]
          },
          "metadata": {},
          "execution_count": 22
        }
      ],
      "source": [
        "labels"
      ]
    },
    {
      "cell_type": "code",
      "execution_count": 23,
      "metadata": {
        "colab": {
          "base_uri": "https://localhost:8080/"
        },
        "id": "S9K2soN-CYzF",
        "outputId": "edb0f781-8236-41ee-c503-55f098bb239c"
      },
      "outputs": [
        {
          "output_type": "execute_result",
          "data": {
            "text/plain": [
              "array([0., 1., 1., 0., 0., 1., 1., 0., 0., 0., 1., 1., 0., 1., 1., 0., 1.,\n",
              "       0., 0., 1., 1., 0., 1., 0., 1., 1., 1., 1., 0., 0., 1., 0., 1., 0.,\n",
              "       0., 0., 1., 0., 0., 0., 0., 0., 1., 1., 0., 1., 0., 0., 0., 1., 0.,\n",
              "       1., 0., 1., 1., 0., 1., 0., 0., 0., 0., 0., 0., 0., 1., 1., 1., 0.,\n",
              "       1., 1., 1., 1., 0., 0., 1., 0., 1., 0., 1., 1., 0., 1., 1., 1., 1.,\n",
              "       1., 0., 1., 0., 1., 0., 1., 1., 1., 0., 1., 0., 1., 0., 0., 0., 1.,\n",
              "       0., 1., 1., 1., 0., 1., 1., 1., 0., 1., 1., 0., 1., 1., 0., 0., 1.,\n",
              "       0., 0., 1., 0., 1., 1., 0., 0., 0., 0., 0., 0., 0., 1., 0., 0., 1.,\n",
              "       0., 1., 1., 1., 0., 0., 1., 0., 0., 0., 0., 1., 1., 0., 0., 1., 0.,\n",
              "       1., 1., 1., 1., 0., 0., 1., 0., 0., 0., 1., 1., 1., 0., 1., 1., 0.,\n",
              "       1., 0., 0., 1., 1., 0., 0., 1., 0., 0., 1., 1., 1., 0., 0., 1., 1.,\n",
              "       1., 0., 0., 0., 1., 1., 0., 0., 1., 0., 0., 1., 0., 0., 1., 0., 0.,\n",
              "       0., 1., 1., 1., 1., 0., 0., 1., 1., 0., 0., 0., 0., 1., 1., 1., 0.,\n",
              "       1., 0., 1., 0., 0., 1., 1., 1., 0., 1., 0., 1., 1., 1., 0., 1., 0.,\n",
              "       1., 1., 0., 0., 1., 1., 0., 1., 1., 0., 0., 0., 0., 0., 0., 1., 0.,\n",
              "       0., 0., 1., 0., 1., 1., 1., 1., 1., 0., 1., 1., 1., 1., 0., 1., 0.,\n",
              "       1., 1., 1., 0., 1., 1., 0., 0., 1., 1., 1., 0., 0., 1., 0., 0., 1.,\n",
              "       1., 1., 0., 1., 0., 0., 1., 1., 0., 0., 0., 0., 1., 0., 0., 1., 0.,\n",
              "       1., 0., 1., 0., 1., 0., 1., 0., 0., 1., 1., 1., 0., 1., 0., 0., 0.,\n",
              "       0., 0., 0., 0., 0., 1., 0., 0., 1., 0., 0., 1., 1., 1., 0., 0., 0.,\n",
              "       1., 0., 0., 1., 1., 0., 1., 1., 1., 0., 1., 0., 1., 1., 0., 1., 1.,\n",
              "       0., 0., 0., 0., 1., 0., 1., 0., 1., 0., 1., 1., 1., 0., 0., 1., 1.,\n",
              "       0., 0., 0., 0., 1., 1., 0., 0., 1., 1., 1., 0., 1., 0., 0., 1., 1.,\n",
              "       1., 1., 0., 1., 0., 1., 1., 0., 1., 1., 0., 0., 1., 0., 1., 1., 0.,\n",
              "       0., 1., 0., 0., 0., 1., 1., 1., 0., 0., 0., 0., 1., 1., 0., 0., 1.,\n",
              "       0., 0., 1., 1., 0., 1., 0., 1., 1., 0., 0., 1., 1., 0., 0., 0., 1.,\n",
              "       1., 1., 1., 1., 0., 0., 1., 1., 0., 1., 1., 1., 0., 1., 0., 0., 1.,\n",
              "       1., 0., 1., 0., 0., 0., 0., 1., 1., 0., 0., 0., 1., 0., 1., 0., 0.,\n",
              "       1., 0., 1., 0., 0., 0., 1., 0., 0., 1., 0., 0.])"
            ]
          },
          "metadata": {},
          "execution_count": 23
        }
      ],
      "source": [
        "prediction"
      ]
    },
    {
      "cell_type": "code",
      "execution_count": 24,
      "metadata": {
        "id": "yI8elzZMCa0r",
        "colab": {
          "base_uri": "https://localhost:8080/",
          "height": 499
        },
        "outputId": "6fd23768-8a12-4e42-8a36-0de6a52c456c"
      },
      "outputs": [
        {
          "output_type": "display_data",
          "data": {
            "text/plain": [
              "<Figure size 576x576 with 2 Axes>"
            ],
            "image/png": "[encoded data removed]"
          },
          "metadata": {
            "needs_background": "light"
          }
        }
      ],
      "source": [
        "acc = history.history['accuracy']\n",
        "val_acc = history.history['val_accuracy']\n",
        "\n",
        "loss = history.history['loss']\n",
        "val_loss = history.history['val_loss']\n",
        "\n",
        "epochs_range = range(10)\n",
        "\n",
        "plt.figure(figsize=(8, 8))\n",
        "plt.subplot(1, 2, 1)\n",
        "plt.plot(epochs_range, acc, label='Training Accuracy')\n",
        "plt.plot(epochs_range, val_acc, label='Validation Accuracy')\n",
        "plt.legend(loc='lower right')\n",
        "plt.title('Training and Validation Accuracy')\n",
        "\n",
        "plt.subplot(1, 2, 2)\n",
        "plt.plot(epochs_range, loss, label='Training Loss')\n",
        "plt.plot(epochs_range, val_loss, label='Validation Loss')\n",
        "plt.legend(loc='upper right')\n",
        "plt.title('Training and Validation Loss')\n",
        "plt.show()"
      ]
    },
    {
      "cell_type": "code",
      "source": [
        "from sklearn.metrics import confusion_matrix\n",
        "cf_matrix = confusion_matrix(labels,prediction)\n",
        "import seaborn as sns\n",
        "sns.heatmap(cf_matrix, annot=True)"
      ],
      "metadata": {
        "colab": {
          "base_uri": "https://localhost:8080/",
          "height": 282
        },
        "id": "KTrAPRPIJxyU",
        "outputId": "df82ec60-cb65-4fc5-ef46-9b91bd5ea3a1"
      },
      "execution_count": 27,
      "outputs": [
        {
          "output_type": "execute_result",
          "data": {
            "text/plain": [
              "<matplotlib.axes._subplots.AxesSubplot at 0x7f98edc43810>"
            ]
          },
          "metadata": {},
          "execution_count": 27
        },
        {
          "output_type": "display_data",
          "data": {
            "text/plain": [
              "<Figure size 432x288 with 2 Axes>"
            ],
            "image/png": "[encoded data removed]"
          },
          "metadata": {
            "needs_background": "light"
          }
        }
      ]
    },
    {
      "cell_type": "code",
      "source": [],
      "metadata": {
        "id": "UWq65v7FKQ9E"
      },
      "execution_count": null,
      "outputs": []
    }
  ],
  "metadata": {
    "accelerator": "GPU",
    "colab": {
      "collapsed_sections": [],
      "provenance": []
    },
    "gpuClass": "standard",
    "kernelspec": {
      "display_name": "Python 3",
      "name": "python3"
    },
    "language_info": {
      "name": "python"
    }
  },
  "nbformat": 4,
  "nbformat_minor": 0
}